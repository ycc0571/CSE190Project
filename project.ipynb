{
 "cells": [
  {
   "cell_type": "code",
   "execution_count": 2,
   "source": [
    "import soundfile as sf\r\n",
    "from __future__ import  division\r\n",
    "import numpy as np\r\n",
    "import matplotlib.pyplot as plt\r\n",
    "import librosa\r\n",
    "%matplotlib inline\r\n",
    "import os\r\n",
    "import keras\r\n",
    "from keras.models import Sequential\r\n",
    "from keras.layers import Dense, Dropout, Flatten, Conv2D, MaxPooling2D\r\n",
    "from tensorflow.keras.optimizers import SGD\r\n",
    "from keras.layers.advanced_activations import LeakyReLU\r\n",
    "\r\n",
    "\r\n",
    "\r\n",
    "def wave_to_spectum(x, n_fft):\r\n",
    "    S = librosa.stft(x, n_fft) \r\n",
    "    A = np.log1p(np.abs(S))  \r\n",
    "    return A\r\n",
    "\r\n",
    "\r\n",
    "\r\n",
    "\r\n",
    "    "
   ],
   "outputs": [],
   "metadata": {}
  },
  {
   "cell_type": "code",
   "execution_count": null,
   "source": [
    "dir = []\r\n",
    "rootdir = r\"C:\\Users\\Yuchen Jin\\Documents\\190\\project\\src\\musdb18\\train\"\r\n",
    "for subdir, dirs, files in os.walk(rootdir):\r\n",
    "    for name in dirs:\r\n",
    "        dir.append(rootdir+ '\\\\'+ name + '\\mixture.wav' )\r\n",
    "\r\n",
    "data = []"
   ],
   "outputs": [],
   "metadata": {}
  },
  {
   "cell_type": "code",
   "execution_count": null,
   "source": [
    "data = np.zeros((0,1025,100))\r\n",
    "for i in range(30):\r\n",
    "    path = dir[i]\r\n",
    "    sample, sample_rate = librosa.load(path)\r\n",
    "    n_fft = 2048\r\n",
    "    imdata = wave_to_spectum(sample,n_fft)\r\n",
    "    imdata = np.pad(imdata, [(0, 0), (0, 100-np.shape(imdata)[1]%100)], mode='constant')\r\n",
    "    data = np.concatenate((data, np.reshape(imdata,(int(np.shape(imdata)[1]/100),1025,100))), axis=0)"
   ],
   "outputs": [],
   "metadata": {}
  },
  {
   "cell_type": "code",
   "execution_count": null,
   "source": [
    "dir = []\r\n",
    "rootdir = r\"C:\\Users\\Yuchen Jin\\Documents\\190\\project\\src\\musdb18\\train\"\r\n",
    "for subdir, dirs, files in os.walk(rootdir):\r\n",
    "    for name in dirs:\r\n",
    "        dir.append(rootdir+ '\\\\'+ name + '\\\\vocals.wav' )"
   ],
   "outputs": [],
   "metadata": {}
  },
  {
   "cell_type": "code",
   "execution_count": null,
   "source": [
    "y_in = np.zeros((0,1025,1))\r\n",
    "ind = 0\r\n",
    "for i in range(1):\r\n",
    "    path = dir[i]\r\n",
    "    sample, sample_rate = librosa.load(path)\r\n",
    "    n_fft = 2048\r\n",
    "    imdata = wave_to_spectum(sample,n_fft)\r\n",
    "    imdata = np.pad(imdata, [(0, 0), (0, 100-np.shape(imdata)[1]%100)], mode='constant')\r\n",
    "    plt.pcolormesh(imdata.T[0:1000].T)\r\n",
    "    for j in range(0,int(np.shape(imdata)[1]/100)):\r\n",
    "        y_in = np.concatenate((y_in, (np.reshape(imdata.T[j*100+50],(1,1025,1)))), axis=0)\r\n"
   ],
   "outputs": [],
   "metadata": {}
  },
  {
   "cell_type": "code",
   "execution_count": null,
   "source": [
    "def create_network():\r\n",
    "    model = Sequential()\r\n",
    "    model.add(Conv2D(32, (3,3), padding='same', input_shape=(1025, 100, 1)))\r\n",
    "    model.add(LeakyReLU())\r\n",
    "    model.add(Conv2D(16, (3,3), padding='same'))\r\n",
    "    model.add(LeakyReLU())\r\n",
    "    model.add(MaxPooling2D(pool_size=(3,3)))\r\n",
    "    model.add(Dropout(0.3))\r\n",
    "    model.add(Conv2D(64, (3,3), padding='same'))\r\n",
    "    model.add(LeakyReLU())\r\n",
    "    model.add(Conv2D(16, (3,3), padding='same'))\r\n",
    "    model.add(LeakyReLU())\r\n",
    "    model.add(MaxPooling2D(pool_size=(3,3)))\r\n",
    "    model.add(Dropout(0.3))\r\n",
    "    model.add(Flatten())\r\n",
    "    model.add(Dense(256))\r\n",
    "    model.add(LeakyReLU())\r\n",
    "    model.add(Dropout(0.5))\r\n",
    "    model.add(Dense(1025, activation='sigmoid'))\r\n",
    "    model.compile(loss='binary_crossentropy', optimizer='adam')\r\n",
    "    return model\r\n",
    "\r\n",
    "\r\n",
    "model = create_network()\r\n",
    "\r\n"
   ],
   "outputs": [],
   "metadata": {}
  },
  {
   "cell_type": "code",
   "execution_count": null,
   "source": [
    "import gc\r\n",
    "gc.collect()"
   ],
   "outputs": [],
   "metadata": {}
  },
  {
   "cell_type": "code",
   "execution_count": null,
   "source": [
    "def train_network(data, y_in, model):\r\n",
    "    \"\"\" Train a Neural Network to seperate vocal \"\"\"\r\n",
    "    \r\n",
    "    network_input = np.reshape(data,(np.shape(data)[0],1025,100,1))\r\n",
    "    network_output = np.reshape(y_in,(np.shape(y_in)[0],1025))\r\n",
    "    network_output = np.where(network_output > 0.01, 1, 0)\r\n",
    "\r\n",
    "\r\n",
    "\r\n",
    " \r\n",
    "    checkpoint = keras.callbacks.ModelCheckpoint(\r\n",
    "        \"weights2-improvement-{epoch:02d}-{loss:.4f}-bigger.hdf5\",\r\n",
    "        monitor='loss',\r\n",
    "        verbose=0,\r\n",
    "        save_best_only=True,\r\n",
    "        mode='min'\r\n",
    "    )\r\n",
    "    \r\n",
    "    callbacks_list = [checkpoint]\r\n",
    "\r\n",
    "    print(\"training...\")\r\n",
    "    model.fit(network_input, network_output, batch_size=20, epochs=300, callbacks=callbacks_list)\r\n",
    "train_network(data,y_in,model)"
   ],
   "outputs": [],
   "metadata": {}
  },
  {
   "cell_type": "code",
   "execution_count": 3,
   "source": [
    "\r\n",
    "model = keras.models.load_model('src\\models\\ADAM_BINARYCROSSENTROPY0.0410.hdf5')\r\n",
    "\r\n"
   ],
   "outputs": [],
   "metadata": {}
  },
  {
   "cell_type": "code",
   "execution_count": null,
   "source": [
    "\r\n",
    "\r\n",
    "path = r\"C:\\Users\\Yuchen Jin\\Documents\\190\\project\\src\\musdb18\\test\\Girls Under Glass - We Feel Alright\\mixture.wav\"\r\n",
    "sample, sample_rate = librosa.load(path)\r\n",
    "n_fft = 2048\r\n",
    "indata = wave_to_spectum(sample,n_fft)\r\n",
    "\r\n",
    "\r\n",
    "indata = np.pad(indata, [(0, 0), (0, 100-np.shape(indata)[1]%100)], mode='constant')\r\n",
    "\r\n"
   ],
   "outputs": [],
   "metadata": {}
  },
  {
   "cell_type": "code",
   "execution_count": null,
   "source": [
    "the_stft = librosa.stft(sample,n_fft)\r\n",
    "the_stft = np.pad(the_stft, [(0, 0), (0, 100-np.shape(the_stft)[1]%100)], mode='constant')\r\n"
   ],
   "outputs": [],
   "metadata": {}
  },
  {
   "cell_type": "code",
   "execution_count": null,
   "source": [
    "result = np.zeros((0,1025,1))\r\n",
    "for i in range(0,np.shape(indata)[1]-100):\r\n",
    "    pred = model.predict(np.reshape((indata.T[i:i+100]).T,(1,1025,100,1)))\r\n",
    "    \r\n",
    "    result = np.concatenate((result,np.reshape(pred,(1,1025,1))), axis = 0)"
   ],
   "outputs": [],
   "metadata": {}
  },
  {
   "cell_type": "code",
   "execution_count": null,
   "source": [
    "\r\n",
    "result2 = np.concatenate((np.zeros((49,1025,1)),result), axis = 0)\r\n",
    "result2 = np.concatenate((result2,np.zeros((51,1025,1))), axis = 0)\r\n",
    "result2 = np.reshape(result2,(np.shape(result2)[0],1025)).T\r\n",
    "result2 = np.multiply(np.round(result2), the_stft)\r\n",
    "final_result = librosa.istft(result2, win_length=n_fft)\r\n",
    "\r\n",
    "\r\n",
    "\r\n",
    "\r\n"
   ],
   "outputs": [],
   "metadata": {}
  },
  {
   "cell_type": "code",
   "execution_count": null,
   "source": [
    "\r\n",
    "indata1 = wave_to_spectum(final_result,n_fft)\r\n",
    "plt.pcolormesh(indata1.T[0:1000].T)"
   ],
   "outputs": [],
   "metadata": {}
  },
  {
   "cell_type": "code",
   "execution_count": null,
   "source": [
    "plt.pcolormesh(indata.T[0:1000].T)"
   ],
   "outputs": [],
   "metadata": {}
  },
  {
   "cell_type": "code",
   "execution_count": null,
   "source": [
    "sf.write(\"text.wav\", final_result,sample_rate)\r\n",
    "plt.plot(sample)\r\n",
    "plt.plot(final_result)"
   ],
   "outputs": [],
   "metadata": {}
  },
  {
   "cell_type": "code",
   "execution_count": null,
   "source": [
    "import museval\r\n",
    "\r\n",
    "def calculate_sdr(ref, est, scaling=False):\r\n",
    "    s = museval.evaluate(ref[None,:,None], est[None,:,None], win = len(ref), hop = len(ref))\r\n",
    "    return s[0][0]\r\n",
    "\r\n",
    "\r\n",
    "print(calculate_sdr(sample, final_result))"
   ],
   "outputs": [],
   "metadata": {}
  },
  {
   "cell_type": "code",
   "execution_count": null,
   "source": [
    "model.summary()"
   ],
   "outputs": [],
   "metadata": {}
  }
 ],
 "metadata": {
  "orig_nbformat": 4,
  "language_info": {
   "name": "python",
   "version": "3.8.8",
   "mimetype": "text/x-python",
   "codemirror_mode": {
    "name": "ipython",
    "version": 3
   },
   "pygments_lexer": "ipython3",
   "nbconvert_exporter": "python",
   "file_extension": ".py"
  },
  "kernelspec": {
   "name": "python3",
   "display_name": "Python 3.8.8 64-bit ('base': conda)"
  },
  "interpreter": {
   "hash": "b3ba2566441a7c06988d0923437866b63cedc61552a5af99d1f4fb67d367b25f"
  }
 },
 "nbformat": 4,
 "nbformat_minor": 2
}